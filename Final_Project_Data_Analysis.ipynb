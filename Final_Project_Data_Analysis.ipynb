{
  "nbformat": 4,
  "nbformat_minor": 0,
  "metadata": {
    "colab": {
      "name": "Final Project - Data Analysis.ipynb",
      "provenance": [],
      "collapsed_sections": []
    },
    "kernelspec": {
      "name": "python3",
      "display_name": "Python 3",
      "language": "python"
    }
  },
  "cells": [
    {
      "cell_type": "markdown",
      "metadata": {
        "id": "cHjyQQH_MGA8"
      },
      "source": [
        "# Importing the necessary libraries"
      ]
    },
    {
      "cell_type": "code",
      "metadata": {
        "id": "7G2RZg67EEca"
      },
      "source": [
        "import numpy as np\n",
        "import pandas as pd"
      ],
      "execution_count": 1,
      "outputs": []
    },
    {
      "cell_type": "markdown",
      "metadata": {
        "id": "PeUVkHUyMe29"
      },
      "source": [
        "# Pre-processing"
      ]
    },
    {
      "source": [
        "## Defining data sources"
      ],
      "cell_type": "markdown",
      "metadata": {}
    },
    {
      "cell_type": "code",
      "execution_count": 2,
      "metadata": {},
      "outputs": [],
      "source": [
        "URL_LISTINGS = \"http://data.insideairbnb.com/spain/comunidad-de-madrid/madrid/2020-12-17/visualisations/listings.csv\"\n",
        "URL_LISTINGS_DETAILED = \"http://data.insideairbnb.com/spain/comunidad-de-madrid/madrid/2020-12-17/data/listings.csv.gz\"\n",
        "URL_REVIEWS = \"http://data.insideairbnb.com/spain/comunidad-de-madrid/madrid/2020-12-17/visualisations/reviews.csv\"\n",
        "URL_REVIEWS_DETAILED = \"http://data.insideairbnb.com/spain/comunidad-de-madrid/madrid/2020-12-17/data/reviews.csv.gz\"\n",
        "URL_CALENDAR = \"http://data.insideairbnb.com/spain/comunidad-de-madrid/madrid/2020-12-17/data/calendar.csv.gz\"\n",
        "URL_NEIGHBOURHOODS = \"http://data.insideairbnb.com/spain/comunidad-de-madrid/madrid/2020-12-17/visualisations/neighbourhoods.csv\"\n",
        "URL_NEIGHBOURHOODS_GEO = \"http://data.insideairbnb.com/spain/comunidad-de-madrid/madrid/2020-12-17/visualisations/neighbourhoods.geojson\""
      ]
    },
    {
      "source": [
        "## Loading data sets into pandas"
      ],
      "cell_type": "markdown",
      "metadata": {}
    },
    {
      "cell_type": "code",
      "execution_count": 3,
      "metadata": {},
      "outputs": [],
      "source": [
        "df_listings = pd.read_csv(URL_LISTINGS)\n",
        "df_listings_detailed = pd.read_csv(URL_LISTINGS_DETAILED, compression='gzip')\n",
        "df_reviews = pd.read_csv(URL_REVIEWS)\n",
        "df_reviews_detailed = pd.read_csv(URL_REVIEWS_DETAILED, compression='gzip')\n",
        "df_calendar = pd.read_csv(URL_CALENDAR, compression='gzip')\n",
        "df_neighbourhoods = pd.read_csv(URL_NEIGHBOURHOODS)"
      ]
    },
    {
      "source": [
        "# Cleaning data"
      ],
      "cell_type": "markdown",
      "metadata": {}
    },
    {
      "source": [
        "## Outliers"
      ],
      "cell_type": "markdown",
      "metadata": {}
    },
    {
      "cell_type": "code",
      "execution_count": null,
      "metadata": {},
      "outputs": [],
      "source": []
    }
  ]
}