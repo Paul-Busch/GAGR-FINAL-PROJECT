{
  "nbformat": 4,
  "nbformat_minor": 0,
  "metadata": {
    "colab": {
      "name": "Final_Project_Data_Analysis.ipynb",
      "provenance": [],
      "collapsed_sections": []
    },
    "kernelspec": {
      "name": "python3",
      "display_name": "Python 3",
      "language": "python"
    }
  },
  "cells": [
    {
      "cell_type": "markdown",
      "metadata": {
        "id": "cHjyQQH_MGA8"
      },
      "source": [
        ""
      ]
    },
    {
      "cell_type": "markdown",
      "metadata": {
        "id": "Bb50rfDNiAqM"
      },
      "source": [
        "# First things first: Understanding the Topic"
      ]
    },
    {
      "cell_type": "markdown",
      "metadata": {
        "id": "fjzBZGbRiAqN"
      },
      "source": [
        "Airbnb is an online market place for renting apartments, mostly for vacations. This marketplace connects people that want to rent out their privat apartments or homes and people who are searching for accommodations. It covers over 100.000 cities and 220 countries. Airbnb also provides several other offers that do not effect our work.\n",
        "The datasets that are used in this analysis providing different information about Airbnb listings in Madrid. Let's have a look at the main dataset we want to use. But first we need to import necessary libaries for the data exploration and further machine learning algorithm. "
      ]
    },
    {
      "cell_type": "markdown",
      "metadata": {
        "id": "R14KSVI2sKI0"
      },
      "source": [
        "https://www.airbnb.com/d/howairbnbworks"
      ]
    },
    {
      "cell_type": "markdown",
      "metadata": {
        "id": "4eg49pQaiAqQ"
      },
      "source": [
        "# Importing the necessary libraries"
      ]
    },
    {
      "cell_type": "code",
      "metadata": {
        "id": "QD3HddNkiAqQ"
      },
      "source": [
        "import numpy as np\n",
        "import pandas as pd\n",
        "import matplotlib.pyplot as plt "
      ],
      "execution_count": 13,
      "outputs": []
    },
    {
      "cell_type": "markdown",
      "metadata": {
        "id": "PeUVkHUyMe29"
      },
      "source": [
        "# Pre-processing"
      ]
    },
    {
      "cell_type": "markdown",
      "metadata": {
        "id": "9mVg5lFUiAqR"
      },
      "source": [
        "## Defining Data sources"
      ]
    },
    {
      "cell_type": "code",
      "metadata": {
        "id": "a19M5dzIiAqR"
      },
      "source": [
        "URL_LISTINGS = \"http://data.insideairbnb.com/spain/comunidad-de-madrid/madrid/2020-12-17/visualisations/listings.csv\"\n",
        "URL_LISTINGS_DETAILED = \"http://data.insideairbnb.com/spain/comunidad-de-madrid/madrid/2020-12-17/data/listings.csv.gz\"\n",
        "URL_REVIEWS = \"http://data.insideairbnb.com/spain/comunidad-de-madrid/madrid/2020-12-17/visualisations/reviews.csv\"\n",
        "URL_REVIEWS_DETAILED = \"http://data.insideairbnb.com/spain/comunidad-de-madrid/madrid/2020-12-17/data/reviews.csv.gz\"\n",
        "URL_CALENDAR = \"http://data.insideairbnb.com/spain/comunidad-de-madrid/madrid/2020-12-17/data/calendar.csv.gz\"\n",
        "URL_NEIGHBOURHOODS = \"http://data.insideairbnb.com/spain/comunidad-de-madrid/madrid/2020-12-17/visualisations/neighbourhoods.csv\"\n",
        "URL_NEIGHBOURHOODS_GEO = \"http://data.insideairbnb.com/spain/comunidad-de-madrid/madrid/2020-12-17/visualisations/neighbourhoods.geojson\""
      ],
      "execution_count": 14,
      "outputs": []
    },
    {
      "cell_type": "markdown",
      "metadata": {
        "id": "Se-p4olPiAqS"
      },
      "source": [
        "## Loading data sets into pandas"
      ]
    },
    {
      "cell_type": "code",
      "metadata": {
        "id": "UIQ3RO8tiAqT"
      },
      "source": [
        "df_listings = pd.read_csv(URL_LISTINGS)\n",
        "df_listings_detailed = pd.read_csv(URL_LISTINGS_DETAILED, compression='gzip')\n",
        "# df_reviews = pd.read_csv(URL_REVIEWS)\n",
        "# df_reviews_detailed = pd.read_csv(URL_REVIEWS_DETAILED, compression='gzip')\n",
        "df_calendar = pd.read_csv(URL_CALENDAR, compression='gzip')\n",
        "df_neighbourhoods = pd.read_csv(URL_NEIGHBOURHOODS)"
      ],
      "execution_count": 15,
      "outputs": []
    },
    {
      "cell_type": "code",
      "metadata": {
        "id": "KQGd5zrFiAqT"
      },
      "source": [
        "dfc_listings = df_listings.copy()\n",
        "dfc_listings_detailed = df_listings_detailed.copy()\n",
        "#dfc_reviews = df_reviews.copy()\n",
        "#dfc_reviews_detailed = df_reviews_detailed.copy()\n",
        "dfc_calendar = df_calendar.copy()\n",
        "dfc_neighbourhoods = df_neighbourhoods.copy()"
      ],
      "execution_count": 16,
      "outputs": []
    },
    {
      "cell_type": "markdown",
      "metadata": {
        "id": "7HHNGZ5_iAqT"
      },
      "source": [
        ""
      ]
    },
    {
      "cell_type": "markdown",
      "metadata": {
        "id": "YnMrkHlSiAqU"
      },
      "source": [
        "## Data Exploration"
      ]
    },
    {
      "cell_type": "markdown",
      "metadata": {
        "id": "JsZ0gkynjipS"
      },
      "source": [
        "Let's have a look at the dataset \"df_listings\". First of all we want to know the size, the columns and the type of the dataset.\n",
        "You can see that there are 20352 listings in this dataset. For some variables there are missing values. For example the variable last_review only has 14474 Non-Null values. That means that only 71% of all observations including these values."
      ]
    },
    {
      "cell_type": "code",
      "metadata": {
        "colab": {
          "base_uri": "https://localhost:8080/",
          "height": 411
        },
        "id": "exE9pNUQXDL3",
        "outputId": "cfc51a4a-fad7-4d9b-e885-f2216cc1bc6f"
      },
      "source": [
        "df_listings.head()"
      ],
      "execution_count": 41,
      "outputs": [
        {
          "output_type": "execute_result",
          "data": {
            "text/html": [
              "<div>\n",
              "<style scoped>\n",
              "    .dataframe tbody tr th:only-of-type {\n",
              "        vertical-align: middle;\n",
              "    }\n",
              "\n",
              "    .dataframe tbody tr th {\n",
              "        vertical-align: top;\n",
              "    }\n",
              "\n",
              "    .dataframe thead th {\n",
              "        text-align: right;\n",
              "    }\n",
              "</style>\n",
              "<table border=\"1\" class=\"dataframe\">\n",
              "  <thead>\n",
              "    <tr style=\"text-align: right;\">\n",
              "      <th></th>\n",
              "      <th>id</th>\n",
              "      <th>name</th>\n",
              "      <th>host_id</th>\n",
              "      <th>host_name</th>\n",
              "      <th>neighbourhood_group</th>\n",
              "      <th>neighbourhood</th>\n",
              "      <th>latitude</th>\n",
              "      <th>longitude</th>\n",
              "      <th>room_type</th>\n",
              "      <th>price</th>\n",
              "      <th>minimum_nights</th>\n",
              "      <th>number_of_reviews</th>\n",
              "      <th>last_review</th>\n",
              "      <th>reviews_per_month</th>\n",
              "      <th>calculated_host_listings_count</th>\n",
              "      <th>availability_365</th>\n",
              "    </tr>\n",
              "  </thead>\n",
              "  <tbody>\n",
              "    <tr>\n",
              "      <th>0</th>\n",
              "      <td>6369</td>\n",
              "      <td>Rooftop terrace room ,  ensuite bathroom</td>\n",
              "      <td>13660</td>\n",
              "      <td>Simon</td>\n",
              "      <td>Chamartín</td>\n",
              "      <td>Hispanoamérica</td>\n",
              "      <td>40.45724</td>\n",
              "      <td>-3.67688</td>\n",
              "      <td>Private room</td>\n",
              "      <td>60</td>\n",
              "      <td>1</td>\n",
              "      <td>78</td>\n",
              "      <td>2020-09-20</td>\n",
              "      <td>0.59</td>\n",
              "      <td>1</td>\n",
              "      <td>90</td>\n",
              "    </tr>\n",
              "    <tr>\n",
              "      <th>1</th>\n",
              "      <td>21853</td>\n",
              "      <td>Bright and airy room</td>\n",
              "      <td>83531</td>\n",
              "      <td>Abdel</td>\n",
              "      <td>Latina</td>\n",
              "      <td>Cármenes</td>\n",
              "      <td>40.40341</td>\n",
              "      <td>-3.74084</td>\n",
              "      <td>Private room</td>\n",
              "      <td>31</td>\n",
              "      <td>4</td>\n",
              "      <td>33</td>\n",
              "      <td>2018-07-15</td>\n",
              "      <td>0.44</td>\n",
              "      <td>2</td>\n",
              "      <td>364</td>\n",
              "    </tr>\n",
              "    <tr>\n",
              "      <th>2</th>\n",
              "      <td>23001</td>\n",
              "      <td>Apartmento Arganzuela- Madrid Rio</td>\n",
              "      <td>82175</td>\n",
              "      <td>Jesus</td>\n",
              "      <td>Arganzuela</td>\n",
              "      <td>Legazpi</td>\n",
              "      <td>40.38695</td>\n",
              "      <td>-3.69304</td>\n",
              "      <td>Entire home/apt</td>\n",
              "      <td>60</td>\n",
              "      <td>15</td>\n",
              "      <td>0</td>\n",
              "      <td>NaN</td>\n",
              "      <td>NaN</td>\n",
              "      <td>6</td>\n",
              "      <td>292</td>\n",
              "    </tr>\n",
              "    <tr>\n",
              "      <th>3</th>\n",
              "      <td>24805</td>\n",
              "      <td>Gran Via Studio Madrid</td>\n",
              "      <td>101471</td>\n",
              "      <td>Iraido</td>\n",
              "      <td>Centro</td>\n",
              "      <td>Universidad</td>\n",
              "      <td>40.42202</td>\n",
              "      <td>-3.70395</td>\n",
              "      <td>Entire home/apt</td>\n",
              "      <td>101</td>\n",
              "      <td>5</td>\n",
              "      <td>10</td>\n",
              "      <td>2020-03-01</td>\n",
              "      <td>0.14</td>\n",
              "      <td>1</td>\n",
              "      <td>88</td>\n",
              "    </tr>\n",
              "    <tr>\n",
              "      <th>4</th>\n",
              "      <td>24836</td>\n",
              "      <td>Select the Madrid more \"cool\".</td>\n",
              "      <td>101653</td>\n",
              "      <td>Tenty</td>\n",
              "      <td>Centro</td>\n",
              "      <td>Justicia</td>\n",
              "      <td>40.41995</td>\n",
              "      <td>-3.69764</td>\n",
              "      <td>Entire home/apt</td>\n",
              "      <td>115</td>\n",
              "      <td>3</td>\n",
              "      <td>68</td>\n",
              "      <td>2020-01-26</td>\n",
              "      <td>0.58</td>\n",
              "      <td>1</td>\n",
              "      <td>358</td>\n",
              "    </tr>\n",
              "  </tbody>\n",
              "</table>\n",
              "</div>"
            ],
            "text/plain": [
              "      id  ... availability_365\n",
              "0   6369  ...               90\n",
              "1  21853  ...              364\n",
              "2  23001  ...              292\n",
              "3  24805  ...               88\n",
              "4  24836  ...              358\n",
              "\n",
              "[5 rows x 16 columns]"
            ]
          },
          "metadata": {
            "tags": []
          },
          "execution_count": 41
        }
      ]
    },
    {
      "cell_type": "code",
      "metadata": {
        "colab": {
          "base_uri": "https://localhost:8080/"
        },
        "id": "wTGdBzOtiAqU",
        "outputId": "42de45fc-88df-4d66-bd5f-3f239d8e00c1"
      },
      "source": [
        "df_listings.info()"
      ],
      "execution_count": 17,
      "outputs": [
        {
          "output_type": "stream",
          "text": [
            "<class 'pandas.core.frame.DataFrame'>\n",
            "RangeIndex: 20352 entries, 0 to 20351\n",
            "Data columns (total 16 columns):\n",
            " #   Column                          Non-Null Count  Dtype  \n",
            "---  ------                          --------------  -----  \n",
            " 0   id                              20352 non-null  int64  \n",
            " 1   name                            20349 non-null  object \n",
            " 2   host_id                         20352 non-null  int64  \n",
            " 3   host_name                       20347 non-null  object \n",
            " 4   neighbourhood_group             20352 non-null  object \n",
            " 5   neighbourhood                   20352 non-null  object \n",
            " 6   latitude                        20352 non-null  float64\n",
            " 7   longitude                       20352 non-null  float64\n",
            " 8   room_type                       20352 non-null  object \n",
            " 9   price                           20352 non-null  int64  \n",
            " 10  minimum_nights                  20352 non-null  int64  \n",
            " 11  number_of_reviews               20352 non-null  int64  \n",
            " 12  last_review                     14474 non-null  object \n",
            " 13  reviews_per_month               14474 non-null  float64\n",
            " 14  calculated_host_listings_count  20352 non-null  int64  \n",
            " 15  availability_365                20352 non-null  int64  \n",
            "dtypes: float64(3), int64(7), object(6)\n",
            "memory usage: 2.5+ MB\n"
          ],
          "name": "stdout"
        }
      ]
    },
    {
      "cell_type": "markdown",
      "metadata": {
        "id": "C3REIWJviAqW"
      },
      "source": [
        "Secoundly a statistical description helps to give a feeling for the dataset. Here we only choose coloums for which this description makes sense. Since for now we do not want to know the statistical mean of the host_id or the coordinates (latitude and longitude).\n",
        "Here you can already see that some of the observations are outliers (for example look at max minimum_nights). "
      ]
    },
    {
      "cell_type": "code",
      "metadata": {
        "colab": {
          "base_uri": "https://localhost:8080/",
          "height": 297
        },
        "id": "UOD41HcGiAqW",
        "outputId": "830c1e4e-deeb-46f7-c59b-4b5165c24475"
      },
      "source": [
        "df_listings[['price','minimum_nights','number_of_reviews','calculated_host_listings_count', 'availability_365']].describe(include='all')"
      ],
      "execution_count": 18,
      "outputs": [
        {
          "output_type": "execute_result",
          "data": {
            "text/html": [
              "<div>\n",
              "<style scoped>\n",
              "    .dataframe tbody tr th:only-of-type {\n",
              "        vertical-align: middle;\n",
              "    }\n",
              "\n",
              "    .dataframe tbody tr th {\n",
              "        vertical-align: top;\n",
              "    }\n",
              "\n",
              "    .dataframe thead th {\n",
              "        text-align: right;\n",
              "    }\n",
              "</style>\n",
              "<table border=\"1\" class=\"dataframe\">\n",
              "  <thead>\n",
              "    <tr style=\"text-align: right;\">\n",
              "      <th></th>\n",
              "      <th>price</th>\n",
              "      <th>minimum_nights</th>\n",
              "      <th>number_of_reviews</th>\n",
              "      <th>calculated_host_listings_count</th>\n",
              "      <th>availability_365</th>\n",
              "    </tr>\n",
              "  </thead>\n",
              "  <tbody>\n",
              "    <tr>\n",
              "      <th>count</th>\n",
              "      <td>20352.000000</td>\n",
              "      <td>20352.000000</td>\n",
              "      <td>20352.000000</td>\n",
              "      <td>20352.000000</td>\n",
              "      <td>20352.000000</td>\n",
              "    </tr>\n",
              "    <tr>\n",
              "      <th>mean</th>\n",
              "      <td>115.756732</td>\n",
              "      <td>6.120381</td>\n",
              "      <td>31.665537</td>\n",
              "      <td>11.183471</td>\n",
              "      <td>153.010711</td>\n",
              "    </tr>\n",
              "    <tr>\n",
              "      <th>std</th>\n",
              "      <td>354.502984</td>\n",
              "      <td>30.964229</td>\n",
              "      <td>63.130360</td>\n",
              "      <td>28.264229</td>\n",
              "      <td>149.119819</td>\n",
              "    </tr>\n",
              "    <tr>\n",
              "      <th>min</th>\n",
              "      <td>0.000000</td>\n",
              "      <td>1.000000</td>\n",
              "      <td>0.000000</td>\n",
              "      <td>1.000000</td>\n",
              "      <td>0.000000</td>\n",
              "    </tr>\n",
              "    <tr>\n",
              "      <th>25%</th>\n",
              "      <td>35.000000</td>\n",
              "      <td>1.000000</td>\n",
              "      <td>0.000000</td>\n",
              "      <td>1.000000</td>\n",
              "      <td>0.000000</td>\n",
              "    </tr>\n",
              "    <tr>\n",
              "      <th>50%</th>\n",
              "      <td>59.000000</td>\n",
              "      <td>2.000000</td>\n",
              "      <td>4.000000</td>\n",
              "      <td>2.000000</td>\n",
              "      <td>90.000000</td>\n",
              "    </tr>\n",
              "    <tr>\n",
              "      <th>75%</th>\n",
              "      <td>100.000000</td>\n",
              "      <td>3.000000</td>\n",
              "      <td>32.000000</td>\n",
              "      <td>7.000000</td>\n",
              "      <td>340.000000</td>\n",
              "    </tr>\n",
              "    <tr>\n",
              "      <th>max</th>\n",
              "      <td>9999.000000</td>\n",
              "      <td>1125.000000</td>\n",
              "      <td>678.000000</td>\n",
              "      <td>197.000000</td>\n",
              "      <td>365.000000</td>\n",
              "    </tr>\n",
              "  </tbody>\n",
              "</table>\n",
              "</div>"
            ],
            "text/plain": [
              "              price  ...  availability_365\n",
              "count  20352.000000  ...      20352.000000\n",
              "mean     115.756732  ...        153.010711\n",
              "std      354.502984  ...        149.119819\n",
              "min        0.000000  ...          0.000000\n",
              "25%       35.000000  ...          0.000000\n",
              "50%       59.000000  ...         90.000000\n",
              "75%      100.000000  ...        340.000000\n",
              "max     9999.000000  ...        365.000000\n",
              "\n",
              "[8 rows x 5 columns]"
            ]
          },
          "metadata": {
            "tags": []
          },
          "execution_count": 18
        }
      ]
    },
    {
      "cell_type": "markdown",
      "metadata": {
        "id": "TBGPz4JdqzDn"
      },
      "source": [
        "### Data Visualization"
      ]
    },
    {
      "cell_type": "markdown",
      "metadata": {
        "id": "BlMxIvg2q-0z"
      },
      "source": [
        "For exploring the data visual we will use histograms. Since they are suitable for a holistic view, where we can probe into the data for each attribute.\n"
      ]
    },
    {
      "cell_type": "code",
      "metadata": {
        "colab": {
          "base_uri": "https://localhost:8080/",
          "height": 879
        },
        "id": "QzzcV3duq9zQ",
        "outputId": "bac5a626-0f0b-4c9e-eb31-bd7352d67d7c"
      },
      "source": [
        "df_listings[['price','minimum_nights','number_of_reviews','calculated_host_listings_count', 'availability_365']].hist(bins=50, figsize=(15,15))\n",
        "plt.show()"
      ],
      "execution_count": 51,
      "outputs": [
        {
          "output_type": "display_data",
          "data": {
            "image/png": "[encoded data removed]",
            "text/plain": [
              "<Figure size 1080x1080 with 6 Axes>"
            ]
          },
          "metadata": {
            "tags": [],
            "needs_background": "light"
          }
        }
      ]
    },
    {
      "cell_type": "code",
      "metadata": {
        "colab": {
          "base_uri": "https://localhost:8080/",
          "height": 142
        },
        "id": "JXhRk44DbI2V",
        "outputId": "0443e73c-5f3d-4258-cdc7-66e2e653cc4c"
      },
      "source": [
        "fig = plt.figure()\n",
        "plt.subplot(3, 2, 1)\n",
        "plt.hist(df_listings['price'], density=True)\n",
        "plt.ylabel('Price of listing')\n",
        "plt.xlabel('Counts')\n",
        "\n",
        "plt.subplot(3, 2, 2)\n",
        "plt.hist(df_listings['minimum_nights'], density=True)\n",
        "plt.title('A tale of 2 subplots')\n",
        "plt.ylabel('Minimum nights')\n",
        "plt.xlabel('Counts')\n",
        "\n",
        "plt.title(\"Histograms\") \n",
        "plt.show()"
      ],
      "execution_count": 66,
      "outputs": [
        {
          "output_type": "display_data",
          "data": {
            "image/png": "[encoded data removed]",
            "text/plain": [
              "<Figure size 432x288 with 2 Axes>"
            ]
          },
          "metadata": {
            "tags": [],
            "needs_background": "light"
          }
        }
      ]
    },
    {
      "cell_type": "markdown",
      "metadata": {
        "id": "fjxunPvCiAqX"
      },
      "source": [
        "## Outliers"
      ]
    },
    {
      "cell_type": "code",
      "metadata": {
        "colab": {
          "base_uri": "https://localhost:8080/",
          "height": 841
        },
        "id": "-63ihwIPiAqX",
        "outputId": "7e81d290-ca36-4ef7-8b58-a7fce0881855"
      },
      "source": [
        "plt.figure(num = None, figsize=(15, 6), dpi=80)\n",
        "\n",
        "dfc_listings.boxplot(column='price')\n",
        "dfc_listings.sort_values(by=['price'], ascending = False).head()"
      ],
      "execution_count": 20,
      "outputs": [
        {
          "output_type": "execute_result",
          "data": {
            "text/html": [
              "<div>\n",
              "<style scoped>\n",
              "    .dataframe tbody tr th:only-of-type {\n",
              "        vertical-align: middle;\n",
              "    }\n",
              "\n",
              "    .dataframe tbody tr th {\n",
              "        vertical-align: top;\n",
              "    }\n",
              "\n",
              "    .dataframe thead th {\n",
              "        text-align: right;\n",
              "    }\n",
              "</style>\n",
              "<table border=\"1\" class=\"dataframe\">\n",
              "  <thead>\n",
              "    <tr style=\"text-align: right;\">\n",
              "      <th></th>\n",
              "      <th>id</th>\n",
              "      <th>name</th>\n",
              "      <th>host_id</th>\n",
              "      <th>host_name</th>\n",
              "      <th>neighbourhood_group</th>\n",
              "      <th>neighbourhood</th>\n",
              "      <th>latitude</th>\n",
              "      <th>longitude</th>\n",
              "      <th>room_type</th>\n",
              "      <th>price</th>\n",
              "      <th>minimum_nights</th>\n",
              "      <th>number_of_reviews</th>\n",
              "      <th>last_review</th>\n",
              "      <th>reviews_per_month</th>\n",
              "      <th>calculated_host_listings_count</th>\n",
              "      <th>availability_365</th>\n",
              "    </tr>\n",
              "  </thead>\n",
              "  <tbody>\n",
              "    <tr>\n",
              "      <th>8097</th>\n",
              "      <td>25226806</td>\n",
              "      <td>La Latina Experience</td>\n",
              "      <td>34129781</td>\n",
              "      <td>Javier</td>\n",
              "      <td>Centro</td>\n",
              "      <td>Palacio</td>\n",
              "      <td>40.41145</td>\n",
              "      <td>-3.71063</td>\n",
              "      <td>Entire home/apt</td>\n",
              "      <td>9999</td>\n",
              "      <td>1</td>\n",
              "      <td>9</td>\n",
              "      <td>2019-07-15</td>\n",
              "      <td>0.29</td>\n",
              "      <td>3</td>\n",
              "      <td>351</td>\n",
              "    </tr>\n",
              "    <tr>\n",
              "      <th>12125</th>\n",
              "      <td>34851930</td>\n",
              "      <td>Alaia Holidays duplex apartment at Gran Vía</td>\n",
              "      <td>106745942</td>\n",
              "      <td>Alaia</td>\n",
              "      <td>Centro</td>\n",
              "      <td>Justicia</td>\n",
              "      <td>40.42353</td>\n",
              "      <td>-3.70027</td>\n",
              "      <td>Entire home/apt</td>\n",
              "      <td>9999</td>\n",
              "      <td>1</td>\n",
              "      <td>6</td>\n",
              "      <td>2020-02-23</td>\n",
              "      <td>0.33</td>\n",
              "      <td>6</td>\n",
              "      <td>0</td>\n",
              "    </tr>\n",
              "    <tr>\n",
              "      <th>4099</th>\n",
              "      <td>16140561</td>\n",
              "      <td>Charming Chamberí - Cozy Attic in the Center</td>\n",
              "      <td>2203799</td>\n",
              "      <td>Lisa</td>\n",
              "      <td>Chamberí</td>\n",
              "      <td>Trafalgar</td>\n",
              "      <td>40.43338</td>\n",
              "      <td>-3.69893</td>\n",
              "      <td>Entire home/apt</td>\n",
              "      <td>9999</td>\n",
              "      <td>2</td>\n",
              "      <td>53</td>\n",
              "      <td>2019-09-30</td>\n",
              "      <td>1.12</td>\n",
              "      <td>1</td>\n",
              "      <td>76</td>\n",
              "    </tr>\n",
              "    <tr>\n",
              "      <th>2248</th>\n",
              "      <td>9440377</td>\n",
              "      <td>1 MAGDALENA 38, QUIET AND CENTRAL</td>\n",
              "      <td>3746437</td>\n",
              "      <td>Nuria</td>\n",
              "      <td>Centro</td>\n",
              "      <td>Embajadores</td>\n",
              "      <td>40.41230</td>\n",
              "      <td>-3.69983</td>\n",
              "      <td>Entire home/apt</td>\n",
              "      <td>9200</td>\n",
              "      <td>1</td>\n",
              "      <td>11</td>\n",
              "      <td>2018-12-14</td>\n",
              "      <td>0.18</td>\n",
              "      <td>4</td>\n",
              "      <td>0</td>\n",
              "    </tr>\n",
              "    <tr>\n",
              "      <th>8814</th>\n",
              "      <td>27187514</td>\n",
              "      <td>habitacion por meses</td>\n",
              "      <td>6637077</td>\n",
              "      <td>Jesus</td>\n",
              "      <td>Latina</td>\n",
              "      <td>Puerta del Angel</td>\n",
              "      <td>40.41341</td>\n",
              "      <td>-3.72609</td>\n",
              "      <td>Private room</td>\n",
              "      <td>9000</td>\n",
              "      <td>800</td>\n",
              "      <td>0</td>\n",
              "      <td>NaN</td>\n",
              "      <td>NaN</td>\n",
              "      <td>2</td>\n",
              "      <td>365</td>\n",
              "    </tr>\n",
              "  </tbody>\n",
              "</table>\n",
              "</div>"
            ],
            "text/plain": [
              "             id  ... availability_365\n",
              "8097   25226806  ...              351\n",
              "12125  34851930  ...                0\n",
              "4099   16140561  ...               76\n",
              "2248    9440377  ...                0\n",
              "8814   27187514  ...              365\n",
              "\n",
              "[5 rows x 16 columns]"
            ]
          },
          "metadata": {
            "tags": []
          },
          "execution_count": 20
        },
        {
          "output_type": "display_data",
          "data": {
            "image/png": "[encoded data removed]",
            "text/plain": [
              "<Figure size 1200x480 with 1 Axes>"
            ]
          },
          "metadata": {
            "tags": [],
            "needs_background": "light"
          }
        }
      ]
    },
    {
      "cell_type": "code",
      "metadata": {
        "id": "bnWQgmvGiAqY"
      },
      "source": [
        ""
      ],
      "execution_count": 20,
      "outputs": []
    }
  ]
}