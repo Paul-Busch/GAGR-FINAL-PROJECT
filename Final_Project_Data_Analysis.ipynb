{
  "nbformat": 4,
  "nbformat_minor": 0,
  "metadata": {
    "colab": {
      "name": "Final Project - Data Analysis.ipynb",
      "provenance": [],
      "collapsed_sections": []
    },
    "kernelspec": {
      "name": "python3",
      "display_name": "Python 3",
      "language": "python"
    }
  },
  "cells": [
    {
      "cell_type": "markdown",
      "metadata": {
        "id": "cHjyQQH_MGA8"
      },
      "source": [
        "# Importing the necessary libraries"
      ]
    },
    {
      "cell_type": "code",
      "metadata": {
        "id": "7G2RZg67EEca"
      },
      "source": [
        "import numpy as np\n",
        "import pandas as pd"
      ],
      "execution_count": 4,
      "outputs": [
        {
          "output_type": "error",
          "ename": "ModuleNotFoundError",
          "evalue": "No module named 'geopandas'",
          "traceback": [
            "\u001b[1;31m---------------------------------------------------------------------------\u001b[0m",
            "\u001b[1;31mModuleNotFoundError\u001b[0m                       Traceback (most recent call last)",
            "\u001b[1;32m<ipython-input-4-cba5bf3c73fa>\u001b[0m in \u001b[0;36m<module>\u001b[1;34m\u001b[0m\n\u001b[0;32m      1\u001b[0m \u001b[1;32mimport\u001b[0m \u001b[0mnumpy\u001b[0m \u001b[1;32mas\u001b[0m \u001b[0mnp\u001b[0m\u001b[1;33m\u001b[0m\u001b[1;33m\u001b[0m\u001b[0m\n\u001b[0;32m      2\u001b[0m \u001b[1;32mimport\u001b[0m \u001b[0mpandas\u001b[0m \u001b[1;32mas\u001b[0m \u001b[0mpd\u001b[0m\u001b[1;33m\u001b[0m\u001b[1;33m\u001b[0m\u001b[0m\n\u001b[1;32m----> 3\u001b[1;33m \u001b[1;32mimport\u001b[0m \u001b[0mgeopandas\u001b[0m \u001b[1;32mas\u001b[0m \u001b[0mgpd\u001b[0m\u001b[1;33m\u001b[0m\u001b[1;33m\u001b[0m\u001b[0m\n\u001b[0m",
            "\u001b[1;31mModuleNotFoundError\u001b[0m: No module named 'geopandas'"
          ]
        }
      ]
    },
    {
      "cell_type": "markdown",
      "metadata": {
        "id": "PeUVkHUyMe29"
      },
      "source": [
        "# Pre-processing"
      ]
    },
    {
      "source": [
        "## Defining data sources"
      ],
      "cell_type": "markdown",
      "metadata": {}
    },
    {
      "cell_type": "code",
      "execution_count": 2,
      "metadata": {},
      "outputs": [],
      "source": [
        "URL_LISTINGS = \"http://data.insideairbnb.com/spain/comunidad-de-madrid/madrid/2020-12-17/visualisations/listings.csv\"\n",
        "URL_LISTINGS_DETAILED = \"http://data.insideairbnb.com/spain/comunidad-de-madrid/madrid/2020-12-17/data/listings.csv.gz\"\n",
        "URL_REVIEWS = \"http://data.insideairbnb.com/spain/comunidad-de-madrid/madrid/2020-12-17/visualisations/reviews.csv\"\n",
        "URL_REVIEWS_DETAILED = \"http://data.insideairbnb.com/spain/comunidad-de-madrid/madrid/2020-12-17/data/reviews.csv.gz\"\n",
        "URL_CALENDAR = \"http://data.insideairbnb.com/spain/comunidad-de-madrid/madrid/2020-12-17/data/calendar.csv.gz\"\n",
        "URL_NEIGHBOURHOODS = \"http://data.insideairbnb.com/spain/comunidad-de-madrid/madrid/2020-12-17/visualisations/neighbourhoods.csv\"\n",
        "URL_NEIGHBOURHOODS_GEO = \"http://data.insideairbnb.com/spain/comunidad-de-madrid/madrid/2020-12-17/visualisations/neighbourhoods.geojson\""
      ]
    },
    {
      "source": [
        "## Loading data sets into pandas"
      ],
      "cell_type": "markdown",
      "metadata": {}
    },
    {
      "cell_type": "code",
      "execution_count": 3,
      "metadata": {},
      "outputs": [
        {
          "output_type": "execute_result",
          "data": {
            "text/plain": [
              "  neighbourhood_group neighbourhood\n",
              "0          Arganzuela       Acacias\n",
              "1          Arganzuela        Atocha\n",
              "2          Arganzuela       Chopera\n",
              "3          Arganzuela      Delicias\n",
              "4          Arganzuela      Imperial"
            ],
            "text/html": "<div>\n<style scoped>\n    .dataframe tbody tr th:only-of-type {\n        vertical-align: middle;\n    }\n\n    .dataframe tbody tr th {\n        vertical-align: top;\n    }\n\n    .dataframe thead th {\n        text-align: right;\n    }\n</style>\n<table border=\"1\" class=\"dataframe\">\n  <thead>\n    <tr style=\"text-align: right;\">\n      <th></th>\n      <th>neighbourhood_group</th>\n      <th>neighbourhood</th>\n    </tr>\n  </thead>\n  <tbody>\n    <tr>\n      <th>0</th>\n      <td>Arganzuela</td>\n      <td>Acacias</td>\n    </tr>\n    <tr>\n      <th>1</th>\n      <td>Arganzuela</td>\n      <td>Atocha</td>\n    </tr>\n    <tr>\n      <th>2</th>\n      <td>Arganzuela</td>\n      <td>Chopera</td>\n    </tr>\n    <tr>\n      <th>3</th>\n      <td>Arganzuela</td>\n      <td>Delicias</td>\n    </tr>\n    <tr>\n      <th>4</th>\n      <td>Arganzuela</td>\n      <td>Imperial</td>\n    </tr>\n  </tbody>\n</table>\n</div>"
          },
          "metadata": {},
          "execution_count": 3
        }
      ],
      "source": [
        "df_listings = pd.read_csv(URL_LISTINGS)\n",
        "df_listings_detailed = pd.read_csv(URL_LISTINGS_DETAILED, compression='gzip')\n",
        "df_reviews = pd.read_csv(URL_REVIEWS)\n",
        "df_reviews_detailed = pd.read_csv(URL_REVIEWS_DETAILED, compression='gzip')\n",
        "df_calendar = pd.read_csv(URL_CALENDAR, compression='gzip')\n",
        "df_neighbourhoods = pd.read_csv(URL_NEIGHBOURHOODS)"
      ]
    },
    {
      "cell_type": "code",
      "execution_count": null,
      "metadata": {},
      "outputs": [],
      "source": []
    }
  ]
}